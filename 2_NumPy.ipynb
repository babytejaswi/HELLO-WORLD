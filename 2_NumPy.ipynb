{
  "cells": [
    {
      "cell_type": "markdown",
      "metadata": {
        "id": "view-in-github",
        "colab_type": "text"
      },
      "source": [
        "<a href=\"https://colab.research.google.com/github/babytejaswi/HELLO-WORLD/blob/main/2_NumPy.ipynb\" target=\"_parent\"><img src=\"https://colab.research.google.com/assets/colab-badge.svg\" alt=\"Open In Colab\"/></a>"
      ]
    },
    {
      "cell_type": "markdown",
      "metadata": {
        "id": "Ofl-dqdEJQ70"
      },
      "source": [
        "<h1 style = \"color:Red\" >Working with NumPy</h1>\n"
      ]
    },
    {
      "cell_type": "markdown",
      "metadata": {
        "id": "sHaSHkF8JQ72"
      },
      "source": [
        "<h2 style = \"color:Green\"> Outcomes </h2>\n",
        "\n",
        "#### At the end of this chapter, you will be able to\n",
        "* Define NumPy data types\n",
        "* Create and work with NumPy Arrays\n",
        "* Understand the applications of NumpPy"
      ]
    },
    {
      "cell_type": "markdown",
      "metadata": {
        "id": "xvEEB_zEJQ72"
      },
      "source": [
        "<h2 style = \"color:Green\">What is Numpy?</h2>\n",
        "\n",
        "* A Python package for scientific computations\n",
        "\n",
        "* NumPy = ***Numerical Python***\n",
        "\n",
        "* Numpy Library = Multi-dimensional array objects & Functions for processing it.\n",
        "\n",
        "* Multi-dimensional object --> ___ndarray___ object\n",
        "\n",
        "* Variaous operations supported: Arithmetic, Logical, Shape manipulation, Sort, DFT, Statistics, Random simulation etc.\n",
        "\n",
        "* Importing NumPy: ___import numpy as np___"
      ]
    },
    {
      "cell_type": "code",
      "execution_count": null,
      "metadata": {
        "id": "hLyKacbWJQ73"
      },
      "outputs": [],
      "source": [
        "# import numpy\n",
        "import numpy as np"
      ]
    },
    {
      "cell_type": "markdown",
      "metadata": {
        "id": "3Wkbd_qBJQ74"
      },
      "source": [
        "<h2 style = \"color:Green\"> Creating and Accessing ndarray object</h2>\n",
        "    \n",
        "* ndarray: Collection of items of the same type\n",
        "\n",
        "    \n",
        "* Items can be accessed using zero-based index.\n",
        "\n",
        "    \n",
        "* array() Function: ***numpy.array(object)*** \n",
        "                --> Creates an ndarray from an object.\n",
        "                --> object: Any array or sequence.\n",
        "               "
      ]
    },
    {
      "cell_type": "markdown",
      "metadata": {
        "id": "IkaavcZIJQ74"
      },
      "source": [
        "<h3 style = \"color:Blue\">One Dimensional Array (Vector):</h3>"
      ]
    },
    {
      "cell_type": "code",
      "execution_count": null,
      "metadata": {
        "id": "n-FVQqboJQ75",
        "outputId": "e781ef17-9353-45f9-ffb3-c1b26b3dda0c"
      },
      "outputs": [
        {
          "name": "stdout",
          "output_type": "stream",
          "text": [
            "[2 3 4 5 6]\n",
            "<class 'numpy.ndarray'>\n"
          ]
        }
      ],
      "source": [
        "# Create an one dimensional ndarray object from a list, display its values and type\n",
        "n1=np.array([2,3,4,5,6])\n",
        "print(n1)\n",
        "print(type(n1))"
      ]
    },
    {
      "cell_type": "code",
      "execution_count": null,
      "metadata": {
        "id": "mfDmNXQWJQ76",
        "outputId": "0476ab18-ce20-4848-f183-a7289acdbacc"
      },
      "outputs": [
        {
          "name": "stdout",
          "output_type": "stream",
          "text": [
            "[2.8 3.5 4.9 5.7 6. ]\n",
            "<class 'numpy.ndarray'>\n"
          ]
        }
      ],
      "source": [
        "# Create an one dimensional ndarray object from a tuple, display its values and type\n",
        "n2=np.array((2.8,3.5,4.9,5.7,6.0))\n",
        "print(n2)\n",
        "print(type(n2))"
      ]
    },
    {
      "cell_type": "markdown",
      "metadata": {
        "id": "FCmcTj2gJQ76"
      },
      "source": [
        "<h4 style = \"color:Brown\">Indexing & Slicing:</h4>\n",
        "\n",
        "![oneDim.png](attachment:oneDim.png)"
      ]
    },
    {
      "cell_type": "code",
      "execution_count": null,
      "metadata": {
        "id": "ND48fESvJQ77",
        "outputId": "212ed552-96ae-4e2e-ba6d-eba47132318a"
      },
      "outputs": [
        {
          "name": "stdout",
          "output_type": "stream",
          "text": [
            "2\n",
            "3\n",
            "4\n",
            "5\n",
            "6\n",
            "6\n",
            "5\n",
            "4\n",
            "3\n",
            "2\n",
            "[3 4]\n",
            "[6 5 4 3 2]\n"
          ]
        }
      ],
      "source": [
        "# Create above one dimensional ndarray object and access its elements individually. And also slice some of its elements. \n",
        "n3=np.array([2,3,4,5,6])\n",
        "print(n3[0])\n",
        "print(n3[1])\n",
        "print(n3[2])\n",
        "print(n3[3])\n",
        "print(n3[4])\n",
        "print(n3[-1])\n",
        "print(n3[-2])\n",
        "print(n3[-3])\n",
        "print(n3[-4])\n",
        "print(n3[-5])\n",
        "print(n3[1:3:1])\n",
        "print(n3[: : -1])"
      ]
    },
    {
      "cell_type": "markdown",
      "metadata": {
        "id": "PNF3Lbm8JQ77"
      },
      "source": [
        "<h3 style = \"color:Blue\">Two-Dimensional Arrays(Matrices)</h3>\n",
        "\n",
        "* Each element  is itself 1D array\n",
        "\n",
        "\n",
        "* arr2 = numpy.array([[row1], [row2], ...., [rowM]])\n",
        "\n",
        "\n",
        "* Accessing an element: arr2[row_index, column_index]"
      ]
    },
    {
      "cell_type": "code",
      "execution_count": null,
      "metadata": {
        "id": "9UnMAz2tJQ78",
        "outputId": "a393c1b0-6d7a-42cc-80ae-a99b170662df"
      },
      "outputs": [
        {
          "name": "stdout",
          "output_type": "stream",
          "text": [
            "[[1 2 3 4]\n",
            " [5 6 7 8]]\n",
            "<class 'numpy.ndarray'>\n",
            "1\n",
            "[1 2 3 4]\n",
            "[[1 2 3 4]]\n",
            "[[2 3]\n",
            " [6 7]]\n"
          ]
        }
      ],
      "source": [
        "# Create a two dimensional array and access their rows and columns individually.\n",
        "# Access the individual elements.\n",
        "n4=np.array([[1,2,3,4],[5,6,7,8]])\n",
        "print(n4)\n",
        "print(type(n4))\n",
        "print(n4[0][0])\n",
        "print(n4[0])\n",
        "print(n4[:1])\n",
        "print(n4[ : ,1:3])\n",
        "print(n4[])\n",
        "\n"
      ]
    },
    {
      "cell_type": "markdown",
      "metadata": {
        "id": "4o9cCUq3JQ78"
      },
      "source": [
        "<h2 style = \"color:Green\">ndarray Attribtes</h2>"
      ]
    },
    {
      "cell_type": "markdown",
      "metadata": {
        "id": "VP9KB_QsJQ78"
      },
      "source": [
        "* ndarray.ndim: Number of dimensions\n",
        "\n",
        "\n",
        "* ndarry.shape: Array dimensions as a tuple.\n",
        "\n",
        "\n",
        "* ndarry.size: Total number of elements\n",
        "\n",
        "\n",
        "* ndarry.dtype: Type of the array elements.\n",
        "\n",
        "\n",
        "* ndarray.itemsize: The size of each element in bytes"
      ]
    },
    {
      "cell_type": "code",
      "execution_count": null,
      "metadata": {
        "id": "AE95c84IJQ79",
        "outputId": "8d75c48e-c2ae-4234-80ec-2892abe329c4"
      },
      "outputs": [
        {
          "name": "stdout",
          "output_type": "stream",
          "text": [
            "[1 2 3 4 5 6 7]\n",
            "1\n",
            "(7,)\n",
            "7\n",
            "int32\n",
            "4\n"
          ]
        }
      ],
      "source": [
        "# Create an one dimensional ndarray object and diplay all its attribute values.\n",
        "n4=np.array([1,2,3,4,5,6,7])\n",
        "print(n4)\n",
        "print(n4.ndim)\n",
        "print(n4.shape)\n",
        "print(n4.size)\n",
        "print(n4.dtype)\n",
        "print(n4.itemsize)\n",
        "\n"
      ]
    },
    {
      "cell_type": "code",
      "execution_count": null,
      "metadata": {
        "id": "NiLZC4nJJQ79",
        "outputId": "3f97df80-7c1d-4b4a-82c4-bccb7d494383"
      },
      "outputs": [
        {
          "name": "stdout",
          "output_type": "stream",
          "text": [
            "[[ 1  2  3  4]\n",
            " [ 5  6  7  8]\n",
            " [ 9 10 11 12]\n",
            " [13 14 15 16]\n",
            " [17 18 19 20]]\n",
            "2\n",
            "(5, 4)\n",
            "20\n",
            "int32\n",
            "4\n"
          ]
        }
      ],
      "source": [
        "# Create a two dimensional ndarray object and diplay all its attribute values.\n",
        "n4=np.array([[1,2,3,4],[5,6,7,8],[9,10,11,12],[13,14,15,16],[17,18,19,20]])\n",
        "print(n4)\n",
        "print(n4.ndim)\n",
        "print(n4.shape)\n",
        "print(n4.size)\n",
        "print(n4.dtype)\n",
        "print(n4.itemsize)\n"
      ]
    },
    {
      "cell_type": "markdown",
      "metadata": {
        "id": "qHy7j6whJQ79"
      },
      "source": [
        "<h2 style = \"color:Green\">Other NumPy array creation functions</h2>"
      ]
    },
    {
      "cell_type": "markdown",
      "metadata": {
        "id": "Zgl_muXJJQ79"
      },
      "source": [
        "#### zeros(shape)\n",
        "* Returns an array of zeros with specified shape\n",
        "* Dafalut dtype is float\n",
        "\n",
        "\n",
        "\n",
        "#### ones(shape)\n",
        "* Returns an array of ones with specified shape\n",
        "* Dafalut dtype is float\n",
        "\n",
        "\n",
        "#### arange(start, stop, step, dtype)\n",
        "* Returns an ndarray object with elements decided by start, stop and step arguments.\n",
        "* Note that stop value is not including in the array.\n",
        "* Default dtype is type is determined by type of start or stop values.\n",
        "\n",
        "#### linspace(start, stop, N, dtype)\n",
        "* Returns an ndarray object with N elements in the range from start value to stop stop .\n",
        "* Note that stop value is inclusive in the array.\n",
        "* Defaul type is float64"
      ]
    },
    {
      "cell_type": "code",
      "execution_count": null,
      "metadata": {
        "id": "67ffaCYZJQ7-",
        "outputId": "b691ed8a-20db-443b-883b-a29bca0f6e2b"
      },
      "outputs": [
        {
          "name": "stdout",
          "output_type": "stream",
          "text": [
            "[0. 0. 0. 0. 0. 0.]\n"
          ]
        }
      ],
      "source": [
        "# Create ndarray objects with all zeros using different dimensions and dtypes.\n",
        "n=np.zeros(6,dtype=float)\n",
        "print(n)\n",
        "\n",
        "\n"
      ]
    },
    {
      "cell_type": "code",
      "execution_count": null,
      "metadata": {
        "id": "OBZtus02JQ7-",
        "outputId": "00e5c4b3-c4a1-4029-ddda-6c3cc5d4a634"
      },
      "outputs": [
        {
          "name": "stdout",
          "output_type": "stream",
          "text": [
            "[1 1 1 1 1 1]\n"
          ]
        }
      ],
      "source": [
        "# Create ndarray objects with all ones using different dimensions and dtypes.\n",
        "n=np.ones(6,dtype=int)\n",
        "print(n)"
      ]
    },
    {
      "cell_type": "code",
      "execution_count": null,
      "metadata": {
        "id": "GXPwQnKqJQ7-",
        "outputId": "3e5f65f5-764e-4af7-a808-149d3b5430e2"
      },
      "outputs": [
        {
          "name": "stdout",
          "output_type": "stream",
          "text": [
            "[ 1  6 11 16]\n"
          ]
        }
      ],
      "source": [
        "# Create one dimensional ndarray objects with various range of values and dtypes.\n",
        "n4=np.arange(start=1,stop=20,step=5)\n",
        "print(n4)\n"
      ]
    },
    {
      "cell_type": "code",
      "execution_count": null,
      "metadata": {
        "id": "hWRLKMOqJQ7_",
        "outputId": "dd2947dd-15d9-453c-c1ea-bdc039b0b5c5"
      },
      "outputs": [
        {
          "name": "stdout",
          "output_type": "stream",
          "text": [
            "[ 1.    8.25 15.5  22.75 30.  ]\n"
          ]
        }
      ],
      "source": [
        "# Create one dimensional ndarray objects with 25 elements between 1 and 100 of different dtypes.\n",
        "n5=np.linspace(start=1,stop=30,num=5,dtype=float)\n",
        "print(n5)"
      ]
    },
    {
      "cell_type": "code",
      "execution_count": null,
      "metadata": {
        "id": "VqoDq1EeJQ7_"
      },
      "outputs": [],
      "source": []
    }
  ],
  "metadata": {
    "kernelspec": {
      "display_name": "Python 3 (ipykernel)",
      "language": "python",
      "name": "python3"
    },
    "language_info": {
      "codemirror_mode": {
        "name": "ipython",
        "version": 3
      },
      "file_extension": ".py",
      "mimetype": "text/x-python",
      "name": "python",
      "nbconvert_exporter": "python",
      "pygments_lexer": "ipython3",
      "version": "3.9.13"
    },
    "colab": {
      "provenance": [],
      "include_colab_link": true
    }
  },
  "nbformat": 4,
  "nbformat_minor": 0
}